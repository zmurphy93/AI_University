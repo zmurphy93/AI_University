{
 "cells": [
  {
   "cell_type": "markdown",
   "metadata": {},
   "source": [
    "# Support Vector Machines"
   ]
  },
  {
   "cell_type": "markdown",
   "metadata": {},
   "source": [
    "### Introduction\n",
    "We'll be taking a look at a new class of algorithms that has found uses in classification and regression. These algorithms are referred to as support vector machines (SVMs). We'll first go through the underlying mathematics behind SVMs before diving into constructing them in Python. "
   ]
  },
  {
   "cell_type": "markdown",
   "metadata": {},
   "source": [
    "### Creating a Support Vector Classifier\n",
    "\n",
    "Let's get started and construct a support vector classifier (SVC) class. We'll be using numpy and cvxopt as well, as these modules will be key to formulating the classifier. Let's construct a <code>SupportVectorClassifier</code> class. Note: Jupyter notebook makes for a slightly unusual implementation of object-oriented programming. We'll still build the class piece-by-piece, but a full implementation will be supplied in its own block at the end. Of course, the actual code that can be used or experimented with will be made available on Github."
   ]
  },
  {
   "cell_type": "code",
   "execution_count": 3,
   "metadata": {},
   "outputs": [],
   "source": [
    "import numpy as np\n",
    "import cvxopt as cvx\n",
    "\n",
    "class SupportVectorClassifier:\n",
    "    \n",
    "    def __init__(self, C=1, kernel='linear', power=4, gamma=None, coef=4):\n",
    "        self.C = C\n",
    "        self.kernel = kernel\n",
    "        self.power = power\n",
    "        self.gamma = gamma\n",
    "        self.coef = coef\n",
    "        self.lagr_multipliers = None\n",
    "        self.support_vectors = None\n",
    "        self.support_vector_labels = None\n",
    "        self.intercept = None\n",
    "\n",
    "svm = SupportVectorClassifier()"
   ]
  },
  {
   "cell_type": "markdown",
   "metadata": {},
   "source": [
    "Here, we'll explain the attributes that we have created for the SVM"
   ]
  }
 ],
 "metadata": {
  "kernelspec": {
   "display_name": "Python 3",
   "language": "python",
   "name": "python3"
  },
  "language_info": {
   "codemirror_mode": {
    "name": "ipython",
    "version": 3
   },
   "file_extension": ".py",
   "mimetype": "text/x-python",
   "name": "python",
   "nbconvert_exporter": "python",
   "pygments_lexer": "ipython3",
   "version": "3.6.4"
  }
 },
 "nbformat": 4,
 "nbformat_minor": 2
}

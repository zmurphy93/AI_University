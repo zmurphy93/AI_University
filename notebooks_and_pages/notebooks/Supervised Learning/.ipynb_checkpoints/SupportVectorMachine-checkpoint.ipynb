{
 "cells": [
  {
   "cell_type": "markdown",
   "metadata": {},
   "source": [
    "# Support Vector Machines"
   ]
  },
  {
   "cell_type": "code",
   "execution_count": 1,
   "metadata": {},
   "outputs": [],
   "source": []
  },
  {
   "cell_type": "markdown",
   "metadata": {},
   "source": [
    "### Introduction\n",
    "The diagram below shows a two-dimensional dataset with two classes. When we construct a classification algorithm, what might the decision boundary look like that best separates the classes? "
   ]
  },
  {
   "cell_type": "code",
   "execution_count": null,
   "metadata": {},
   "outputs": [],
   "source": []
  },
  {
   "cell_type": "markdown",
   "metadata": {},
   "source": [
    "One might choose a line that is halfway between the classes, so that the space between the line and the nearest observations for each class has some \"wiggle room\". This wiggle room is referred to as a margin, and any classifier that tries to create the largest possible margin between the decision boundary and the classes is referred to as a <strong>Maximum Margin Classifier</strong>. The most well-known classifier is referred to as a <strong>Support Vector Classifier</strong>."
   ]
  },
  {
   "cell_type": "markdown",
   "metadata": {},
   "source": [
    "### Creating a Support Vector Classifier\n",
    "\n",
    "Let's get started and construct a support vector classifier (SVC) class. We'll be using numpy and cvxopt as well, as these modules will be key to formulating the classifier. Let's construct a <code>SupportVectorClassifier</code> class. Note: Jupyter notebook makes for a slightly unusual implementation of object-oriented programming. We'll still build the class piece-by-piece, but a full implementation will be supplied in its own block at the end. Of course, the actual code that can be used or experimented with will be made available on Github."
   ]
  },
  {
   "cell_type": "code",
   "execution_count": 3,
   "metadata": {},
   "outputs": [],
   "source": [
    "import numpy as np\n",
    "import cvxopt as cvx\n",
    "\n",
    "class SupportVectorClassifier:\n",
    "    \n",
    "    def __init__(self, C=1, kernel='linear', power=4, gamma=None, coef=4):\n",
    "        self.C = C\n",
    "        self.kernel = kernel\n",
    "        self.power = power\n",
    "        self.gamma = gamma\n",
    "        self.coef = coef\n",
    "        self.lagr_multipliers = None\n",
    "        self.support_vectors = None\n",
    "        self.support_vector_labels = None\n",
    "        self.intercept = None\n",
    "\n",
    "svm = SupportVectorClassifier()"
   ]
  },
  {
   "cell_type": "markdown",
   "metadata": {},
   "source": [
    "Here, we'll explain the attributes that we have created for the SVM"
   ]
  }
 ],
 "metadata": {
  "kernelspec": {
   "display_name": "Python 3",
   "language": "python",
   "name": "python3"
  },
  "language_info": {
   "codemirror_mode": {
    "name": "ipython",
    "version": 3
   },
   "file_extension": ".py",
   "mimetype": "text/x-python",
   "name": "python",
   "nbconvert_exporter": "python",
   "pygments_lexer": "ipython3",
   "version": "3.7.3"
  }
 },
 "nbformat": 4,
 "nbformat_minor": 2
}

{
 "cells": [
  {
   "cell_type": "markdown",
   "metadata": {},
   "source": [
    "### Linear Discriminant Analysis Classification\n",
    "Linear Discriminant Analysis is an algorithm that can be used to both reduce the number of dimensions of a dataset, or to perform classification tasks. In this module, we focus on the latter usage.\n",
    "\n",
    "LDA can best be described as a probabilistic classification model. It's "
   ]
  },
  {
   "cell_type": "code",
   "execution_count": null,
   "metadata": {},
   "outputs": [],
   "source": [
    "class LinearDiscriminantAnalysis:\n",
    "    \n",
    "    def __init__(self, solution_technique, shrinkage)\n",
    "        self.solution_technique = solution_technique\n",
    "        self.shrinkage = shrinkage\n",
    "        \n",
    "    def"
   ]
  }
 ],
 "metadata": {
  "kernelspec": {
   "display_name": "Python 3",
   "language": "python",
   "name": "python3"
  },
  "language_info": {
   "codemirror_mode": {
    "name": "ipython",
    "version": 3
   },
   "file_extension": ".py",
   "mimetype": "text/x-python",
   "name": "python",
   "nbconvert_exporter": "python",
   "pygments_lexer": "ipython3",
   "version": "3.7.3"
  }
 },
 "nbformat": 4,
 "nbformat_minor": 2
}
